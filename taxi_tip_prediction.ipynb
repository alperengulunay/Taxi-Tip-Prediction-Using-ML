{
 "cells": [
  {
   "cell_type": "code",
   "execution_count": 1,
   "id": "6de90d54-0c8f-4898-9c42-6714cf6e9568",
   "metadata": {},
   "outputs": [],
   "source": [
    "from __future__ import print_function\n",
    "import numpy as np\n",
    "import pandas as pd\n",
    "import matplotlib.pyplot as plt\n",
    "%matplotlib inline\n",
    "import seaborn as sns\n",
    "from sklearn.model_selection import train_test_split\n",
    "from sklearn.preprocessing import normalize, StandardScaler, MinMaxScaler\n",
    "from sklearn.utils.class_weight import compute_sample_weight\n",
    "import time\n",
    "import warnings\n",
    "import gc, sys\n",
    "import statsmodels.api as sm\n",
    "# warnings.filterwarnings('ignore')"
   ]
  },
  {
   "cell_type": "code",
   "execution_count": 2,
   "id": "a7e6bdeb-2369-4d36-8efe-b5ab7ab12e84",
   "metadata": {},
   "outputs": [
    {
     "name": "stdout",
     "output_type": "stream",
     "text": [
      "There are 3936004 observations in the dataset.\n",
      "There are 18 variables in the dataset.\n"
     ]
    },
    {
     "data": {
      "text/html": [
       "<div>\n",
       "<style scoped>\n",
       "    .dataframe tbody tr th:only-of-type {\n",
       "        vertical-align: middle;\n",
       "    }\n",
       "\n",
       "    .dataframe tbody tr th {\n",
       "        vertical-align: top;\n",
       "    }\n",
       "\n",
       "    .dataframe thead th {\n",
       "        text-align: right;\n",
       "    }\n",
       "</style>\n",
       "<table border=\"1\" class=\"dataframe\">\n",
       "  <thead>\n",
       "    <tr style=\"text-align: right;\">\n",
       "      <th></th>\n",
       "      <th>VendorID</th>\n",
       "      <th>tpep_pickup_datetime</th>\n",
       "      <th>tpep_dropoff_datetime</th>\n",
       "      <th>passenger_count</th>\n",
       "      <th>trip_distance</th>\n",
       "      <th>RatecodeID</th>\n",
       "      <th>store_and_fwd_flag</th>\n",
       "      <th>PULocationID</th>\n",
       "      <th>DOLocationID</th>\n",
       "      <th>payment_type</th>\n",
       "      <th>fare_amount</th>\n",
       "      <th>extra</th>\n",
       "      <th>mta_tax</th>\n",
       "      <th>tip_amount</th>\n",
       "      <th>tolls_amount</th>\n",
       "      <th>improvement_surcharge</th>\n",
       "      <th>total_amount</th>\n",
       "      <th>congestion_surcharge</th>\n",
       "    </tr>\n",
       "  </thead>\n",
       "  <tbody>\n",
       "    <tr>\n",
       "      <th>0</th>\n",
       "      <td>1</td>\n",
       "      <td>2019-06-01 00:55:13</td>\n",
       "      <td>2019-06-01 00:56:17</td>\n",
       "      <td>1.0</td>\n",
       "      <td>0.0</td>\n",
       "      <td>1.0</td>\n",
       "      <td>N</td>\n",
       "      <td>145.0</td>\n",
       "      <td>145.0</td>\n",
       "      <td>2.0</td>\n",
       "      <td>3.0</td>\n",
       "      <td>0.5</td>\n",
       "      <td>0.5</td>\n",
       "      <td>0.00</td>\n",
       "      <td>0.0</td>\n",
       "      <td>0.3</td>\n",
       "      <td>4.30</td>\n",
       "      <td>0.0</td>\n",
       "    </tr>\n",
       "    <tr>\n",
       "      <th>1</th>\n",
       "      <td>1</td>\n",
       "      <td>2019-06-01 00:06:31</td>\n",
       "      <td>2019-06-01 00:06:52</td>\n",
       "      <td>1.0</td>\n",
       "      <td>0.0</td>\n",
       "      <td>1.0</td>\n",
       "      <td>N</td>\n",
       "      <td>262.0</td>\n",
       "      <td>263.0</td>\n",
       "      <td>2.0</td>\n",
       "      <td>2.5</td>\n",
       "      <td>3.0</td>\n",
       "      <td>0.5</td>\n",
       "      <td>0.00</td>\n",
       "      <td>0.0</td>\n",
       "      <td>0.3</td>\n",
       "      <td>6.30</td>\n",
       "      <td>2.5</td>\n",
       "    </tr>\n",
       "    <tr>\n",
       "      <th>2</th>\n",
       "      <td>1</td>\n",
       "      <td>2019-06-01 00:17:05</td>\n",
       "      <td>2019-06-01 00:36:38</td>\n",
       "      <td>1.0</td>\n",
       "      <td>4.4</td>\n",
       "      <td>1.0</td>\n",
       "      <td>N</td>\n",
       "      <td>74.0</td>\n",
       "      <td>7.0</td>\n",
       "      <td>2.0</td>\n",
       "      <td>17.5</td>\n",
       "      <td>0.5</td>\n",
       "      <td>0.5</td>\n",
       "      <td>0.00</td>\n",
       "      <td>0.0</td>\n",
       "      <td>0.3</td>\n",
       "      <td>18.80</td>\n",
       "      <td>0.0</td>\n",
       "    </tr>\n",
       "    <tr>\n",
       "      <th>3</th>\n",
       "      <td>1</td>\n",
       "      <td>2019-06-01 00:59:02</td>\n",
       "      <td>2019-06-01 00:59:12</td>\n",
       "      <td>0.0</td>\n",
       "      <td>0.8</td>\n",
       "      <td>1.0</td>\n",
       "      <td>N</td>\n",
       "      <td>145.0</td>\n",
       "      <td>145.0</td>\n",
       "      <td>2.0</td>\n",
       "      <td>2.5</td>\n",
       "      <td>1.0</td>\n",
       "      <td>0.5</td>\n",
       "      <td>0.00</td>\n",
       "      <td>0.0</td>\n",
       "      <td>0.3</td>\n",
       "      <td>4.30</td>\n",
       "      <td>0.0</td>\n",
       "    </tr>\n",
       "    <tr>\n",
       "      <th>4</th>\n",
       "      <td>1</td>\n",
       "      <td>2019-06-01 00:03:25</td>\n",
       "      <td>2019-06-01 00:15:42</td>\n",
       "      <td>1.0</td>\n",
       "      <td>1.7</td>\n",
       "      <td>1.0</td>\n",
       "      <td>N</td>\n",
       "      <td>113.0</td>\n",
       "      <td>148.0</td>\n",
       "      <td>1.0</td>\n",
       "      <td>9.5</td>\n",
       "      <td>3.0</td>\n",
       "      <td>0.5</td>\n",
       "      <td>2.65</td>\n",
       "      <td>0.0</td>\n",
       "      <td>0.3</td>\n",
       "      <td>15.95</td>\n",
       "      <td>2.5</td>\n",
       "    </tr>\n",
       "  </tbody>\n",
       "</table>\n",
       "</div>"
      ],
      "text/plain": [
       "   VendorID tpep_pickup_datetime tpep_dropoff_datetime  passenger_count  \\\n",
       "0         1  2019-06-01 00:55:13   2019-06-01 00:56:17              1.0   \n",
       "1         1  2019-06-01 00:06:31   2019-06-01 00:06:52              1.0   \n",
       "2         1  2019-06-01 00:17:05   2019-06-01 00:36:38              1.0   \n",
       "3         1  2019-06-01 00:59:02   2019-06-01 00:59:12              0.0   \n",
       "4         1  2019-06-01 00:03:25   2019-06-01 00:15:42              1.0   \n",
       "\n",
       "   trip_distance  RatecodeID store_and_fwd_flag  PULocationID  DOLocationID  \\\n",
       "0            0.0         1.0                  N         145.0         145.0   \n",
       "1            0.0         1.0                  N         262.0         263.0   \n",
       "2            4.4         1.0                  N          74.0           7.0   \n",
       "3            0.8         1.0                  N         145.0         145.0   \n",
       "4            1.7         1.0                  N         113.0         148.0   \n",
       "\n",
       "   payment_type  fare_amount  extra  mta_tax  tip_amount  tolls_amount  \\\n",
       "0           2.0          3.0    0.5      0.5        0.00           0.0   \n",
       "1           2.0          2.5    3.0      0.5        0.00           0.0   \n",
       "2           2.0         17.5    0.5      0.5        0.00           0.0   \n",
       "3           2.0          2.5    1.0      0.5        0.00           0.0   \n",
       "4           1.0          9.5    3.0      0.5        2.65           0.0   \n",
       "\n",
       "   improvement_surcharge  total_amount  congestion_surcharge  \n",
       "0                    0.3          4.30                   0.0  \n",
       "1                    0.3          6.30                   2.5  \n",
       "2                    0.3         18.80                   0.0  \n",
       "3                    0.3          4.30                   0.0  \n",
       "4                    0.3         15.95                   2.5  "
      ]
     },
     "execution_count": 2,
     "metadata": {},
     "output_type": "execute_result"
    }
   ],
   "source": [
    "# read the input data\n",
    "raw_data = pd.read_csv('yellow_tripdata_2019-06.csv')\n",
    "print(\"There are \" + str(len(raw_data)) + \" observations in the dataset.\")\n",
    "print(\"There are \" + str(len(raw_data.columns)) + \" variables in the dataset.\")\n",
    "\n",
    "# display first rows in the dataset\n",
    "raw_data.head()"
   ]
  },
  {
   "cell_type": "code",
   "execution_count": 3,
   "id": "88c9612c-fa38-41f2-928e-8f5ad558c23b",
   "metadata": {
    "scrolled": true
   },
   "outputs": [
    {
     "name": "stdout",
     "output_type": "stream",
     "text": [
      "<class 'pandas.core.frame.DataFrame'>\n",
      "RangeIndex: 3936004 entries, 0 to 3936003\n",
      "Data columns (total 18 columns):\n",
      " #   Column                 Dtype  \n",
      "---  ------                 -----  \n",
      " 0   VendorID               int64  \n",
      " 1   tpep_pickup_datetime   object \n",
      " 2   tpep_dropoff_datetime  object \n",
      " 3   passenger_count        float64\n",
      " 4   trip_distance          float64\n",
      " 5   RatecodeID             float64\n",
      " 6   store_and_fwd_flag     object \n",
      " 7   PULocationID           float64\n",
      " 8   DOLocationID           float64\n",
      " 9   payment_type           float64\n",
      " 10  fare_amount            float64\n",
      " 11  extra                  float64\n",
      " 12  mta_tax                float64\n",
      " 13  tip_amount             float64\n",
      " 14  tolls_amount           float64\n",
      " 15  improvement_surcharge  float64\n",
      " 16  total_amount           float64\n",
      " 17  congestion_surcharge   float64\n",
      "dtypes: float64(14), int64(1), object(3)\n",
      "memory usage: 540.5+ MB\n"
     ]
    }
   ],
   "source": [
    "raw_data.info()"
   ]
  },
  {
   "cell_type": "code",
   "execution_count": 4,
   "id": "748683fd-7a24-4d99-9b1a-4146348d4c41",
   "metadata": {},
   "outputs": [
    {
     "data": {
      "text/html": [
       "<div>\n",
       "<style scoped>\n",
       "    .dataframe tbody tr th:only-of-type {\n",
       "        vertical-align: middle;\n",
       "    }\n",
       "\n",
       "    .dataframe tbody tr th {\n",
       "        vertical-align: top;\n",
       "    }\n",
       "\n",
       "    .dataframe thead th {\n",
       "        text-align: right;\n",
       "    }\n",
       "</style>\n",
       "<table border=\"1\" class=\"dataframe\">\n",
       "  <thead>\n",
       "    <tr style=\"text-align: right;\">\n",
       "      <th></th>\n",
       "      <th>VendorID</th>\n",
       "      <th>passenger_count</th>\n",
       "      <th>trip_distance</th>\n",
       "      <th>RatecodeID</th>\n",
       "      <th>PULocationID</th>\n",
       "      <th>DOLocationID</th>\n",
       "      <th>payment_type</th>\n",
       "      <th>fare_amount</th>\n",
       "      <th>extra</th>\n",
       "      <th>mta_tax</th>\n",
       "      <th>tip_amount</th>\n",
       "      <th>tolls_amount</th>\n",
       "      <th>improvement_surcharge</th>\n",
       "      <th>total_amount</th>\n",
       "      <th>congestion_surcharge</th>\n",
       "    </tr>\n",
       "  </thead>\n",
       "  <tbody>\n",
       "    <tr>\n",
       "      <th>count</th>\n",
       "      <td>3.936004e+06</td>\n",
       "      <td>3.936003e+06</td>\n",
       "      <td>3.936003e+06</td>\n",
       "      <td>3.936003e+06</td>\n",
       "      <td>3.936003e+06</td>\n",
       "      <td>3.936003e+06</td>\n",
       "      <td>3.936003e+06</td>\n",
       "      <td>3.936003e+06</td>\n",
       "      <td>3.936003e+06</td>\n",
       "      <td>3.936003e+06</td>\n",
       "      <td>3.936003e+06</td>\n",
       "      <td>3.936003e+06</td>\n",
       "      <td>3.936003e+06</td>\n",
       "      <td>3.936003e+06</td>\n",
       "      <td>3.936003e+06</td>\n",
       "    </tr>\n",
       "    <tr>\n",
       "      <th>mean</th>\n",
       "      <td>1.640733e+00</td>\n",
       "      <td>1.570112e+00</td>\n",
       "      <td>3.095537e+00</td>\n",
       "      <td>1.058665e+00</td>\n",
       "      <td>1.628665e+02</td>\n",
       "      <td>1.612532e+02</td>\n",
       "      <td>1.291269e+00</td>\n",
       "      <td>1.351268e+01</td>\n",
       "      <td>1.162435e+00</td>\n",
       "      <td>4.951916e-01</td>\n",
       "      <td>2.251814e+00</td>\n",
       "      <td>4.071124e-01</td>\n",
       "      <td>2.986211e-01</td>\n",
       "      <td>1.957001e+01</td>\n",
       "      <td>2.274282e+00</td>\n",
       "    </tr>\n",
       "    <tr>\n",
       "      <th>std</th>\n",
       "      <td>5.020742e-01</td>\n",
       "      <td>1.214708e+00</td>\n",
       "      <td>2.351466e+01</td>\n",
       "      <td>7.215995e-01</td>\n",
       "      <td>6.636449e+01</td>\n",
       "      <td>7.048365e+01</td>\n",
       "      <td>4.800985e-01</td>\n",
       "      <td>1.257028e+01</td>\n",
       "      <td>1.275248e+00</td>\n",
       "      <td>5.969404e-02</td>\n",
       "      <td>2.858797e+00</td>\n",
       "      <td>1.818862e+00</td>\n",
       "      <td>2.753095e-02</td>\n",
       "      <td>1.541216e+01</td>\n",
       "      <td>7.285723e-01</td>\n",
       "    </tr>\n",
       "    <tr>\n",
       "      <th>min</th>\n",
       "      <td>1.000000e+00</td>\n",
       "      <td>0.000000e+00</td>\n",
       "      <td>0.000000e+00</td>\n",
       "      <td>1.000000e+00</td>\n",
       "      <td>1.000000e+00</td>\n",
       "      <td>1.000000e+00</td>\n",
       "      <td>1.000000e+00</td>\n",
       "      <td>-3.050000e+02</td>\n",
       "      <td>-2.650000e+01</td>\n",
       "      <td>-5.000000e-01</td>\n",
       "      <td>-8.888000e+01</td>\n",
       "      <td>-1.900000e+01</td>\n",
       "      <td>-3.000000e-01</td>\n",
       "      <td>-3.058000e+02</td>\n",
       "      <td>-2.500000e+00</td>\n",
       "    </tr>\n",
       "    <tr>\n",
       "      <th>25%</th>\n",
       "      <td>1.000000e+00</td>\n",
       "      <td>1.000000e+00</td>\n",
       "      <td>1.000000e+00</td>\n",
       "      <td>1.000000e+00</td>\n",
       "      <td>1.140000e+02</td>\n",
       "      <td>1.070000e+02</td>\n",
       "      <td>1.000000e+00</td>\n",
       "      <td>6.500000e+00</td>\n",
       "      <td>0.000000e+00</td>\n",
       "      <td>5.000000e-01</td>\n",
       "      <td>0.000000e+00</td>\n",
       "      <td>0.000000e+00</td>\n",
       "      <td>3.000000e-01</td>\n",
       "      <td>1.130000e+01</td>\n",
       "      <td>2.500000e+00</td>\n",
       "    </tr>\n",
       "    <tr>\n",
       "      <th>50%</th>\n",
       "      <td>2.000000e+00</td>\n",
       "      <td>1.000000e+00</td>\n",
       "      <td>1.700000e+00</td>\n",
       "      <td>1.000000e+00</td>\n",
       "      <td>1.620000e+02</td>\n",
       "      <td>1.620000e+02</td>\n",
       "      <td>1.000000e+00</td>\n",
       "      <td>9.500000e+00</td>\n",
       "      <td>5.000000e-01</td>\n",
       "      <td>5.000000e-01</td>\n",
       "      <td>1.950000e+00</td>\n",
       "      <td>0.000000e+00</td>\n",
       "      <td>3.000000e-01</td>\n",
       "      <td>1.480000e+01</td>\n",
       "      <td>2.500000e+00</td>\n",
       "    </tr>\n",
       "    <tr>\n",
       "      <th>75%</th>\n",
       "      <td>2.000000e+00</td>\n",
       "      <td>2.000000e+00</td>\n",
       "      <td>3.160000e+00</td>\n",
       "      <td>1.000000e+00</td>\n",
       "      <td>2.330000e+02</td>\n",
       "      <td>2.340000e+02</td>\n",
       "      <td>2.000000e+00</td>\n",
       "      <td>1.500000e+01</td>\n",
       "      <td>2.500000e+00</td>\n",
       "      <td>5.000000e-01</td>\n",
       "      <td>2.960000e+00</td>\n",
       "      <td>0.000000e+00</td>\n",
       "      <td>3.000000e-01</td>\n",
       "      <td>2.100000e+01</td>\n",
       "      <td>2.500000e+00</td>\n",
       "    </tr>\n",
       "    <tr>\n",
       "      <th>max</th>\n",
       "      <td>4.000000e+00</td>\n",
       "      <td>9.000000e+00</td>\n",
       "      <td>4.597722e+04</td>\n",
       "      <td>9.900000e+01</td>\n",
       "      <td>2.650000e+02</td>\n",
       "      <td>2.650000e+02</td>\n",
       "      <td>4.000000e+00</td>\n",
       "      <td>3.004000e+03</td>\n",
       "      <td>1.850000e+01</td>\n",
       "      <td>3.080000e+01</td>\n",
       "      <td>3.569000e+02</td>\n",
       "      <td>8.230000e+02</td>\n",
       "      <td>3.000000e-01</td>\n",
       "      <td>3.007300e+03</td>\n",
       "      <td>2.750000e+00</td>\n",
       "    </tr>\n",
       "  </tbody>\n",
       "</table>\n",
       "</div>"
      ],
      "text/plain": [
       "           VendorID  passenger_count  trip_distance    RatecodeID  \\\n",
       "count  3.936004e+06     3.936003e+06   3.936003e+06  3.936003e+06   \n",
       "mean   1.640733e+00     1.570112e+00   3.095537e+00  1.058665e+00   \n",
       "std    5.020742e-01     1.214708e+00   2.351466e+01  7.215995e-01   \n",
       "min    1.000000e+00     0.000000e+00   0.000000e+00  1.000000e+00   \n",
       "25%    1.000000e+00     1.000000e+00   1.000000e+00  1.000000e+00   \n",
       "50%    2.000000e+00     1.000000e+00   1.700000e+00  1.000000e+00   \n",
       "75%    2.000000e+00     2.000000e+00   3.160000e+00  1.000000e+00   \n",
       "max    4.000000e+00     9.000000e+00   4.597722e+04  9.900000e+01   \n",
       "\n",
       "       PULocationID  DOLocationID  payment_type   fare_amount         extra  \\\n",
       "count  3.936003e+06  3.936003e+06  3.936003e+06  3.936003e+06  3.936003e+06   \n",
       "mean   1.628665e+02  1.612532e+02  1.291269e+00  1.351268e+01  1.162435e+00   \n",
       "std    6.636449e+01  7.048365e+01  4.800985e-01  1.257028e+01  1.275248e+00   \n",
       "min    1.000000e+00  1.000000e+00  1.000000e+00 -3.050000e+02 -2.650000e+01   \n",
       "25%    1.140000e+02  1.070000e+02  1.000000e+00  6.500000e+00  0.000000e+00   \n",
       "50%    1.620000e+02  1.620000e+02  1.000000e+00  9.500000e+00  5.000000e-01   \n",
       "75%    2.330000e+02  2.340000e+02  2.000000e+00  1.500000e+01  2.500000e+00   \n",
       "max    2.650000e+02  2.650000e+02  4.000000e+00  3.004000e+03  1.850000e+01   \n",
       "\n",
       "            mta_tax    tip_amount  tolls_amount  improvement_surcharge  \\\n",
       "count  3.936003e+06  3.936003e+06  3.936003e+06           3.936003e+06   \n",
       "mean   4.951916e-01  2.251814e+00  4.071124e-01           2.986211e-01   \n",
       "std    5.969404e-02  2.858797e+00  1.818862e+00           2.753095e-02   \n",
       "min   -5.000000e-01 -8.888000e+01 -1.900000e+01          -3.000000e-01   \n",
       "25%    5.000000e-01  0.000000e+00  0.000000e+00           3.000000e-01   \n",
       "50%    5.000000e-01  1.950000e+00  0.000000e+00           3.000000e-01   \n",
       "75%    5.000000e-01  2.960000e+00  0.000000e+00           3.000000e-01   \n",
       "max    3.080000e+01  3.569000e+02  8.230000e+02           3.000000e-01   \n",
       "\n",
       "       total_amount  congestion_surcharge  \n",
       "count  3.936003e+06          3.936003e+06  \n",
       "mean   1.957001e+01          2.274282e+00  \n",
       "std    1.541216e+01          7.285723e-01  \n",
       "min   -3.058000e+02         -2.500000e+00  \n",
       "25%    1.130000e+01          2.500000e+00  \n",
       "50%    1.480000e+01          2.500000e+00  \n",
       "75%    2.100000e+01          2.500000e+00  \n",
       "max    3.007300e+03          2.750000e+00  "
      ]
     },
     "execution_count": 4,
     "metadata": {},
     "output_type": "execute_result"
    }
   ],
   "source": [
    "raw_data.describe()"
   ]
  },
  {
   "cell_type": "code",
   "execution_count": 5,
   "id": "87917fef-0324-4b60-9673-5095895b7450",
   "metadata": {
    "scrolled": true
   },
   "outputs": [
    {
     "data": {
      "text/plain": [
       "VendorID                 0\n",
       "tpep_pickup_datetime     1\n",
       "tpep_dropoff_datetime    1\n",
       "passenger_count          1\n",
       "trip_distance            1\n",
       "RatecodeID               1\n",
       "store_and_fwd_flag       1\n",
       "PULocationID             1\n",
       "DOLocationID             1\n",
       "payment_type             1\n",
       "fare_amount              1\n",
       "extra                    1\n",
       "mta_tax                  1\n",
       "tip_amount               1\n",
       "tolls_amount             1\n",
       "improvement_surcharge    1\n",
       "total_amount             1\n",
       "congestion_surcharge     1\n",
       "dtype: int64"
      ]
     },
     "execution_count": 5,
     "metadata": {},
     "output_type": "execute_result"
    }
   ],
   "source": [
    "raw_data.isna().sum()"
   ]
  },
  {
   "cell_type": "code",
   "execution_count": 6,
   "id": "4b7a0c5d-9550-4f61-8bac-265265f7a8f5",
   "metadata": {
    "scrolled": true
   },
   "outputs": [],
   "source": [
    "raw_data = raw_data.dropna()"
   ]
  },
  {
   "cell_type": "code",
   "execution_count": 7,
   "id": "f3c51e10-ea35-4294-be7c-d21e4318fffd",
   "metadata": {},
   "outputs": [],
   "source": [
    "nRow, nCol = raw_data.shape"
   ]
  },
  {
   "cell_type": "code",
   "execution_count": 8,
   "id": "08d55fd5-6c3d-4661-8460-dad00fabc903",
   "metadata": {},
   "outputs": [
    {
     "name": "stdout",
     "output_type": "stream",
     "text": [
      "32230 people who trip distance is 0\n",
      "0.008188510018920209\n",
      "Dropped all trip_distance <= 0\n"
     ]
    }
   ],
   "source": [
    "print(len(raw_data[raw_data['trip_distance'] == 0]), 'people who trip distance is 0')\n",
    "print(len(raw_data[raw_data['trip_distance'] == 0]) / nRow) \n",
    "raw_data = raw_data[raw_data['trip_distance'] > 0]\n",
    "print('Dropped all trip_distance <= 0')"
   ]
  },
  {
   "cell_type": "code",
   "execution_count": 9,
   "id": "d369a653-b9a8-41f1-ae39-173e96a6f677",
   "metadata": {},
   "outputs": [
    {
     "name": "stdout",
     "output_type": "stream",
     "text": [
      "6980 surcharge that should have been $0.3\n",
      "0.0017733726320838677\n",
      "Dropped all corrupted data\n"
     ]
    }
   ],
   "source": [
    "print(len(raw_data[raw_data['improvement_surcharge'] != 0.3]), 'surcharge that should have been $0.3')\n",
    "print(len(raw_data[raw_data['improvement_surcharge'] != 0.3]) / nRow)\n",
    "raw_data = raw_data[raw_data['improvement_surcharge'] == 0.3]\n",
    "print('Dropped all corrupted data')"
   ]
  },
  {
   "cell_type": "code",
   "execution_count": 10,
   "id": "f46934f8-6e68-4fdb-bec8-6d84832a8b0d",
   "metadata": {},
   "outputs": [
    {
     "name": "stdout",
     "output_type": "stream",
     "text": [
      "[2. 1. 3. 4.]\n"
     ]
    }
   ],
   "source": [
    "print(raw_data['payment_type'].unique())\n",
    "raw_data = pd.get_dummies(raw_data, columns=['payment_type'])"
   ]
  },
  {
   "cell_type": "code",
   "execution_count": 11,
   "id": "dfa55cc4-082b-40df-8177-1f2242350c78",
   "metadata": {},
   "outputs": [
    {
     "name": "stdout",
     "output_type": "stream",
     "text": [
      "['N' 'Y']\n"
     ]
    }
   ],
   "source": [
    "print(raw_data['store_and_fwd_flag'].unique())\n",
    "raw_data = pd.get_dummies(raw_data, columns=['store_and_fwd_flag'])"
   ]
  },
  {
   "cell_type": "code",
   "execution_count": 12,
   "id": "2bc094bc-e241-42ae-a3dd-b6a3860aff04",
   "metadata": {},
   "outputs": [
    {
     "name": "stdout",
     "output_type": "stream",
     "text": [
      "[ 1.  2.  5.  4.  3.  6. 99.]\n",
      "86 there are. We should not have data in the form of 99\n",
      "[1. 2. 5. 4. 3. 6.]\n"
     ]
    }
   ],
   "source": [
    "print(raw_data['RatecodeID'].unique())\n",
    "print(len(raw_data[raw_data['RatecodeID'] == 99]), 'there are. We should not have data in the form of 99')\n",
    "raw_data = raw_data[raw_data['RatecodeID'] != 99]\n",
    "print(raw_data['RatecodeID'].unique())\n",
    "raw_data = pd.get_dummies(raw_data, columns=['RatecodeID'])"
   ]
  },
  {
   "cell_type": "code",
   "execution_count": 13,
   "id": "1403e1e7-b7cb-48c4-a936-a188c3494b53",
   "metadata": {},
   "outputs": [],
   "source": [
    "raw_data['tolal_non_trip_extra_fares'] = raw_data['total_amount'] - raw_data['fare_amount']"
   ]
  },
  {
   "cell_type": "code",
   "execution_count": 14,
   "id": "b49bc2b3-eee4-4165-a92a-70e09a8dafac",
   "metadata": {},
   "outputs": [
    {
     "name": "stdout",
     "output_type": "stream",
     "text": [
      "[1 2 4]\n",
      "14241 there are. We should not have data in the form of 4\n",
      "[1 2]\n"
     ]
    }
   ],
   "source": [
    "print(raw_data['VendorID'].unique())\n",
    "print(len(raw_data[raw_data['VendorID'] == 4]), 'there are. We should not have data in the form of 4')\n",
    "raw_data = raw_data[raw_data['VendorID'] != 4]\n",
    "print(raw_data['VendorID'].unique())\n",
    "raw_data = pd.get_dummies(raw_data, columns=['VendorID'])"
   ]
  },
  {
   "cell_type": "code",
   "execution_count": 15,
   "id": "6d6b9838-f11b-40de-8e27-b384ca99c867",
   "metadata": {},
   "outputs": [
    {
     "name": "stdout",
     "output_type": "stream",
     "text": [
      "[0.5 0. ]\n",
      "14919\n",
      "0.003790393452444015\n"
     ]
    }
   ],
   "source": [
    "print(raw_data['mta_tax'].unique())\n",
    "print(len(raw_data[raw_data['mta_tax'] == 0]))\n",
    "print(len(raw_data[raw_data['mta_tax'] == 0]) / nRow)\n",
    "raw_data = raw_data[raw_data['mta_tax'] != 0]\n",
    "raw_data = raw_data.drop(['mta_tax'], axis=1) # all mta_tax data are equal"
   ]
  },
  {
   "cell_type": "code",
   "execution_count": 16,
   "id": "b4a4aae3-bc47-46f9-82c1-852e7af64f99",
   "metadata": {},
   "outputs": [
    {
     "name": "stdout",
     "output_type": "stream",
     "text": [
      "[0.3]\n"
     ]
    }
   ],
   "source": [
    "print(raw_data['improvement_surcharge'].unique())\n",
    "raw_data = raw_data.drop(['improvement_surcharge'], axis=1) # all improvement_surcharge data are equal"
   ]
  },
  {
   "cell_type": "code",
   "execution_count": 17,
   "id": "6becdea6-55d5-4a36-abed-0074044f2ba9",
   "metadata": {},
   "outputs": [
    {
     "name": "stdout",
     "output_type": "stream",
     "text": [
      "[0.5  1.   3.   0.   2.5  3.5  8.5  1.75 4.   7.5  2.8  7.   4.5  2.\n",
      " 5.5  2.15 9.5  0.01 5.   2.61 0.11]\n"
     ]
    }
   ],
   "source": [
    "print(raw_data['extra'].unique())"
   ]
  },
  {
   "cell_type": "code",
   "execution_count": 18,
   "id": "69e3c77d-65eb-415d-b0a1-78a98b407939",
   "metadata": {},
   "outputs": [
    {
     "name": "stdout",
     "output_type": "stream",
     "text": [
      "There are 265 observations in the dataset.\n",
      "There are 4 variables in the dataset.\n"
     ]
    },
    {
     "data": {
      "text/html": [
       "<div>\n",
       "<style scoped>\n",
       "    .dataframe tbody tr th:only-of-type {\n",
       "        vertical-align: middle;\n",
       "    }\n",
       "\n",
       "    .dataframe tbody tr th {\n",
       "        vertical-align: top;\n",
       "    }\n",
       "\n",
       "    .dataframe thead th {\n",
       "        text-align: right;\n",
       "    }\n",
       "</style>\n",
       "<table border=\"1\" class=\"dataframe\">\n",
       "  <thead>\n",
       "    <tr style=\"text-align: right;\">\n",
       "      <th></th>\n",
       "      <th>LocationID</th>\n",
       "      <th>Borough</th>\n",
       "      <th>Zone</th>\n",
       "      <th>service_zone</th>\n",
       "    </tr>\n",
       "  </thead>\n",
       "  <tbody>\n",
       "    <tr>\n",
       "      <th>0</th>\n",
       "      <td>1</td>\n",
       "      <td>EWR</td>\n",
       "      <td>Newark Airport</td>\n",
       "      <td>EWR</td>\n",
       "    </tr>\n",
       "    <tr>\n",
       "      <th>1</th>\n",
       "      <td>2</td>\n",
       "      <td>Queens</td>\n",
       "      <td>Jamaica Bay</td>\n",
       "      <td>Boro Zone</td>\n",
       "    </tr>\n",
       "    <tr>\n",
       "      <th>2</th>\n",
       "      <td>3</td>\n",
       "      <td>Bronx</td>\n",
       "      <td>Allerton/Pelham Gardens</td>\n",
       "      <td>Boro Zone</td>\n",
       "    </tr>\n",
       "    <tr>\n",
       "      <th>3</th>\n",
       "      <td>4</td>\n",
       "      <td>Manhattan</td>\n",
       "      <td>Alphabet City</td>\n",
       "      <td>Yellow Zone</td>\n",
       "    </tr>\n",
       "    <tr>\n",
       "      <th>4</th>\n",
       "      <td>5</td>\n",
       "      <td>Staten Island</td>\n",
       "      <td>Arden Heights</td>\n",
       "      <td>Boro Zone</td>\n",
       "    </tr>\n",
       "  </tbody>\n",
       "</table>\n",
       "</div>"
      ],
      "text/plain": [
       "   LocationID        Borough                     Zone service_zone\n",
       "0           1            EWR           Newark Airport          EWR\n",
       "1           2         Queens              Jamaica Bay    Boro Zone\n",
       "2           3          Bronx  Allerton/Pelham Gardens    Boro Zone\n",
       "3           4      Manhattan            Alphabet City  Yellow Zone\n",
       "4           5  Staten Island            Arden Heights    Boro Zone"
      ]
     },
     "execution_count": 18,
     "metadata": {},
     "output_type": "execute_result"
    }
   ],
   "source": [
    "zone_data = pd.read_csv('taxi+_zone_lookup.csv')\n",
    "print(\"There are \" + str(len(zone_data)) + \" observations in the dataset.\")\n",
    "print(\"There are \" + str(len(zone_data.columns)) + \" variables in the dataset.\")\n",
    "zone_data = zone_data.dropna()\n",
    "zone_data.head()"
   ]
  },
  {
   "cell_type": "code",
   "execution_count": 19,
   "id": "e5877392-a24f-4178-abc3-09e327eec39e",
   "metadata": {},
   "outputs": [],
   "source": [
    "raw_data = raw_data[raw_data['PULocationID'] < 263]"
   ]
  },
  {
   "cell_type": "code",
   "execution_count": 20,
   "id": "c6870288-65cc-4f6b-a207-b67903adb673",
   "metadata": {},
   "outputs": [],
   "source": [
    "raw_data = pd.merge(left=raw_data, right=zone_data, how='inner', left_on='PULocationID', right_on='LocationID')"
   ]
  },
  {
   "cell_type": "code",
   "execution_count": 21,
   "id": "44919025-23ca-4f2b-a759-833a4e1beae5",
   "metadata": {},
   "outputs": [
    {
     "name": "stdout",
     "output_type": "stream",
     "text": [
      "['Boro Zone' 'Yellow Zone' 'Airports' 'EWR']\n"
     ]
    }
   ],
   "source": [
    "print(raw_data['service_zone'].unique())\n",
    "raw_data = pd.get_dummies(raw_data, columns=['service_zone'])"
   ]
  },
  {
   "cell_type": "code",
   "execution_count": 22,
   "id": "9c92f79b-9a62-412a-97a8-3a2b84a033c3",
   "metadata": {},
   "outputs": [],
   "source": [
    "raw_data = raw_data.drop(['LocationID'], axis=1)"
   ]
  },
  {
   "cell_type": "code",
   "execution_count": 23,
   "id": "9f7dc863-e1b1-4382-a5f5-7c9d85cfff59",
   "metadata": {},
   "outputs": [
    {
     "name": "stdout",
     "output_type": "stream",
     "text": [
      "255\n"
     ]
    }
   ],
   "source": [
    "print(len(raw_data['Zone'].unique()))\n",
    "raw_data = raw_data.drop(['Zone'], axis=1)"
   ]
  },
  {
   "cell_type": "code",
   "execution_count": 24,
   "id": "ab01e2a9-20c6-40fe-963d-cb6320c590cd",
   "metadata": {},
   "outputs": [
    {
     "name": "stdout",
     "output_type": "stream",
     "text": [
      "6\n"
     ]
    }
   ],
   "source": [
    "print(len(raw_data['Borough'].unique()))\n",
    "raw_data = pd.get_dummies(raw_data, columns=['Borough'])"
   ]
  },
  {
   "cell_type": "code",
   "execution_count": 25,
   "id": "dea6bf7f-04dd-4daa-bf8f-f4ad38c83c84",
   "metadata": {},
   "outputs": [],
   "source": [
    "filtered_zone_data = zone_data[['LocationID', 'Borough']]\n",
    "raw_data = pd.merge(left=raw_data, right=filtered_zone_data, how='inner', left_on='PULocationID', right_on='LocationID')\n",
    "raw_data = pd.merge(left=raw_data, right=filtered_zone_data, how='inner', left_on='DOLocationID', right_on='LocationID')"
   ]
  },
  {
   "cell_type": "code",
   "execution_count": 26,
   "id": "f951a457-9b39-4020-b0c8-3514052ff1e4",
   "metadata": {},
   "outputs": [],
   "source": [
    "raw_data = raw_data.drop(['LocationID_x'], axis=1)\n",
    "raw_data = raw_data.drop(['LocationID_y'], axis=1)"
   ]
  },
  {
   "cell_type": "code",
   "execution_count": 27,
   "id": "72abc316-b5a0-4337-98f1-84db6ab269cd",
   "metadata": {},
   "outputs": [],
   "source": [
    "raw_data['travel_to_out_borough'] = raw_data['Borough_x'] != raw_data['Borough_y']"
   ]
  },
  {
   "cell_type": "code",
   "execution_count": 28,
   "id": "8c4ec44c-3f85-4f25-8267-0906096bdaa9",
   "metadata": {},
   "outputs": [],
   "source": [
    "raw_data = raw_data.drop(['extra'], axis=1)\n",
    "raw_data = raw_data.drop(['tolls_amount'], axis=1)"
   ]
  },
  {
   "cell_type": "code",
   "execution_count": 29,
   "id": "a9276c4a-eb96-47ab-b884-cb1c78c6f35a",
   "metadata": {
    "scrolled": true
   },
   "outputs": [],
   "source": [
    "raw_data = raw_data.drop(['Borough_x'], axis=1)\n",
    "raw_data = raw_data.drop(['Borough_y'], axis=1)\n",
    "raw_data = raw_data.drop(['PULocationID'], axis=1)\n",
    "raw_data = raw_data.drop(['DOLocationID'], axis=1)"
   ]
  },
  {
   "cell_type": "code",
   "execution_count": 30,
   "id": "e1f90e3e-92e6-4038-bd2c-82d6651576a8",
   "metadata": {},
   "outputs": [
    {
     "data": {
      "text/plain": [
       "array([0.  , 2.5 , 0.75, 2.75, 0.5 ])"
      ]
     },
     "execution_count": 30,
     "metadata": {},
     "output_type": "execute_result"
    }
   ],
   "source": [
    "raw_data['congestion_surcharge'].unique()"
   ]
  },
  {
   "cell_type": "code",
   "execution_count": 31,
   "id": "f8f26423-a6fe-4ee2-a886-445d44e4c60b",
   "metadata": {},
   "outputs": [
    {
     "data": {
      "text/plain": [
       "congestion_surcharge\n",
       "2.50    3468222\n",
       "0.00     287315\n",
       "2.75         65\n",
       "0.75         56\n",
       "0.50          1\n",
       "Name: count, dtype: int64"
      ]
     },
     "execution_count": 31,
     "metadata": {},
     "output_type": "execute_result"
    }
   ],
   "source": [
    "raw_data['congestion_surcharge'].value_counts()"
   ]
  },
  {
   "cell_type": "code",
   "execution_count": 32,
   "id": "830fc821-8592-4b28-8065-1bed98c3af97",
   "metadata": {},
   "outputs": [],
   "source": [
    "raw_data = raw_data[(raw_data['congestion_surcharge'] == 2.5) | (raw_data['congestion_surcharge'] == 0)]"
   ]
  },
  {
   "cell_type": "code",
   "execution_count": 33,
   "id": "2829c4b8-2de6-4f61-88c0-95207f9054a4",
   "metadata": {},
   "outputs": [
    {
     "data": {
      "text/plain": [
       "congestion_surcharge\n",
       "2.5    3468222\n",
       "0.0     287315\n",
       "Name: count, dtype: int64"
      ]
     },
     "execution_count": 33,
     "metadata": {},
     "output_type": "execute_result"
    }
   ],
   "source": [
    "raw_data['congestion_surcharge'].value_counts()"
   ]
  },
  {
   "cell_type": "code",
   "execution_count": 34,
   "id": "091356c0-f7d1-47f8-942e-b88d426d6e43",
   "metadata": {},
   "outputs": [],
   "source": [
    "raw_data.loc[ raw_data['congestion_surcharge'] == 2.5, 'taked_congestion_surcharge'] = True\n",
    "raw_data.loc[ raw_data['congestion_surcharge'] == 0, 'taked_congestion_surcharge'] = False"
   ]
  },
  {
   "cell_type": "code",
   "execution_count": 35,
   "id": "7d0a56bb-7263-406e-ad8b-12321df5469a",
   "metadata": {
    "scrolled": true
   },
   "outputs": [],
   "source": [
    "raw_data = raw_data.drop(['congestion_surcharge'], axis=1)"
   ]
  },
  {
   "cell_type": "code",
   "execution_count": 36,
   "id": "8773d318-dac1-4c4d-8f72-bb756088b189",
   "metadata": {},
   "outputs": [],
   "source": [
    "raw_data['tpep_pickup_datetime'] = pd.to_datetime(raw_data['tpep_pickup_datetime'])\n",
    "raw_data['tpep_dropoff_datetime'] = pd.to_datetime(raw_data['tpep_dropoff_datetime'])\n",
    "\n",
    "raw_data['trip_minute'] = (raw_data['tpep_dropoff_datetime'] - raw_data['tpep_pickup_datetime']).dt.total_seconds() / 60"
   ]
  },
  {
   "cell_type": "code",
   "execution_count": 37,
   "id": "6b6e3b0a-a50b-43f8-99a9-68ebc956f03a",
   "metadata": {},
   "outputs": [],
   "source": [
    "raw_data['is_it_the_weekend'] = raw_data['tpep_pickup_datetime'].apply(lambda x: x.weekday() >= 5)"
   ]
  },
  {
   "cell_type": "code",
   "execution_count": 38,
   "id": "361ed580-884d-46fa-af0e-6fcca8e01426",
   "metadata": {},
   "outputs": [],
   "source": [
    "raw_data['is_it_night'] = (raw_data['tpep_pickup_datetime'].dt.hour >= 21) | (raw_data['tpep_pickup_datetime'].dt.hour < 6)"
   ]
  },
  {
   "cell_type": "code",
   "execution_count": 39,
   "id": "4c17ea50-fdd4-4e76-aff5-ed979f805beb",
   "metadata": {},
   "outputs": [],
   "source": [
    "raw_data = raw_data.drop(['tpep_pickup_datetime'], axis=1)\n",
    "raw_data = raw_data.drop(['tpep_dropoff_datetime'], axis=1)"
   ]
  },
  {
   "cell_type": "code",
   "execution_count": 40,
   "id": "54a88fb8-f77e-4a32-9557-e8db72b1d047",
   "metadata": {},
   "outputs": [
    {
     "name": "stdout",
     "output_type": "stream",
     "text": [
      "2657 people tipped more than the travel fare\n"
     ]
    }
   ],
   "source": [
    "print(len(raw_data[(raw_data['tip_amount'] > raw_data['fare_amount'])]), 'people tipped more than the travel fare')\n",
    "raw_data = raw_data[(raw_data['tip_amount'] < raw_data['fare_amount'])]"
   ]
  },
  {
   "cell_type": "code",
   "execution_count": 41,
   "id": "04d12bb7-058b-477f-ab7d-99c5a5c97237",
   "metadata": {},
   "outputs": [
    {
     "name": "stdout",
     "output_type": "stream",
     "text": [
      "80 people tipped even though they paid in cash\n"
     ]
    }
   ],
   "source": [
    "print(len(raw_data[(raw_data['payment_type_2.0'] == True) & (raw_data['tip_amount'] != 0)]),'people tipped even though they paid in cash')"
   ]
  },
  {
   "cell_type": "code",
   "execution_count": 42,
   "id": "5fcf771f-56d1-4a4d-bc8d-e99305d86145",
   "metadata": {},
   "outputs": [
    {
     "name": "stdout",
     "output_type": "stream",
     "text": [
      "1026779 It's sad, but we don't have tip data for those who pay in cash.\n"
     ]
    }
   ],
   "source": [
    "print(len(raw_data[raw_data['payment_type_2.0'] == True]), \"It's sad, but we don't have tip data for those who pay in cash.\")\n",
    "raw_data = raw_data[raw_data['payment_type_2.0'] == False]\n",
    "raw_data = raw_data.drop(['payment_type_2.0'], axis=1)"
   ]
  },
  {
   "cell_type": "code",
   "execution_count": 43,
   "id": "f1821802-ad44-41b4-aa9d-d680bf94ea5b",
   "metadata": {
    "scrolled": true
   },
   "outputs": [
    {
     "data": {
      "text/html": [
       "<div>\n",
       "<style scoped>\n",
       "    .dataframe tbody tr th:only-of-type {\n",
       "        vertical-align: middle;\n",
       "    }\n",
       "\n",
       "    .dataframe tbody tr th {\n",
       "        vertical-align: top;\n",
       "    }\n",
       "\n",
       "    .dataframe thead th {\n",
       "        text-align: right;\n",
       "    }\n",
       "</style>\n",
       "<table border=\"1\" class=\"dataframe\">\n",
       "  <thead>\n",
       "    <tr style=\"text-align: right;\">\n",
       "      <th></th>\n",
       "      <th>passenger_count</th>\n",
       "      <th>trip_distance</th>\n",
       "      <th>fare_amount</th>\n",
       "      <th>tip_amount</th>\n",
       "      <th>total_amount</th>\n",
       "      <th>payment_type_1.0</th>\n",
       "      <th>payment_type_3.0</th>\n",
       "      <th>payment_type_4.0</th>\n",
       "      <th>store_and_fwd_flag_N</th>\n",
       "      <th>store_and_fwd_flag_Y</th>\n",
       "      <th>...</th>\n",
       "      <th>Borough_Brooklyn</th>\n",
       "      <th>Borough_EWR</th>\n",
       "      <th>Borough_Manhattan</th>\n",
       "      <th>Borough_Queens</th>\n",
       "      <th>Borough_Staten Island</th>\n",
       "      <th>travel_to_out_borough</th>\n",
       "      <th>taked_congestion_surcharge</th>\n",
       "      <th>trip_minute</th>\n",
       "      <th>is_it_the_weekend</th>\n",
       "      <th>is_it_night</th>\n",
       "    </tr>\n",
       "  </thead>\n",
       "  <tbody>\n",
       "    <tr>\n",
       "      <th>2</th>\n",
       "      <td>1.0</td>\n",
       "      <td>1.70</td>\n",
       "      <td>9.5</td>\n",
       "      <td>2.65</td>\n",
       "      <td>15.95</td>\n",
       "      <td>True</td>\n",
       "      <td>False</td>\n",
       "      <td>False</td>\n",
       "      <td>True</td>\n",
       "      <td>False</td>\n",
       "      <td>...</td>\n",
       "      <td>False</td>\n",
       "      <td>False</td>\n",
       "      <td>True</td>\n",
       "      <td>False</td>\n",
       "      <td>False</td>\n",
       "      <td>False</td>\n",
       "      <td>True</td>\n",
       "      <td>12.283333</td>\n",
       "      <td>True</td>\n",
       "      <td>True</td>\n",
       "    </tr>\n",
       "    <tr>\n",
       "      <th>3</th>\n",
       "      <td>2.0</td>\n",
       "      <td>1.60</td>\n",
       "      <td>9.5</td>\n",
       "      <td>1.00</td>\n",
       "      <td>14.30</td>\n",
       "      <td>True</td>\n",
       "      <td>False</td>\n",
       "      <td>False</td>\n",
       "      <td>True</td>\n",
       "      <td>False</td>\n",
       "      <td>...</td>\n",
       "      <td>False</td>\n",
       "      <td>False</td>\n",
       "      <td>True</td>\n",
       "      <td>False</td>\n",
       "      <td>False</td>\n",
       "      <td>False</td>\n",
       "      <td>True</td>\n",
       "      <td>10.866667</td>\n",
       "      <td>True</td>\n",
       "      <td>True</td>\n",
       "    </tr>\n",
       "    <tr>\n",
       "      <th>5</th>\n",
       "      <td>2.0</td>\n",
       "      <td>1.20</td>\n",
       "      <td>7.5</td>\n",
       "      <td>1.00</td>\n",
       "      <td>12.30</td>\n",
       "      <td>True</td>\n",
       "      <td>False</td>\n",
       "      <td>False</td>\n",
       "      <td>True</td>\n",
       "      <td>False</td>\n",
       "      <td>...</td>\n",
       "      <td>False</td>\n",
       "      <td>False</td>\n",
       "      <td>True</td>\n",
       "      <td>False</td>\n",
       "      <td>False</td>\n",
       "      <td>False</td>\n",
       "      <td>True</td>\n",
       "      <td>8.133333</td>\n",
       "      <td>True</td>\n",
       "      <td>True</td>\n",
       "    </tr>\n",
       "    <tr>\n",
       "      <th>7</th>\n",
       "      <td>1.0</td>\n",
       "      <td>8.60</td>\n",
       "      <td>31.5</td>\n",
       "      <td>7.05</td>\n",
       "      <td>42.35</td>\n",
       "      <td>True</td>\n",
       "      <td>False</td>\n",
       "      <td>False</td>\n",
       "      <td>True</td>\n",
       "      <td>False</td>\n",
       "      <td>...</td>\n",
       "      <td>False</td>\n",
       "      <td>False</td>\n",
       "      <td>True</td>\n",
       "      <td>False</td>\n",
       "      <td>False</td>\n",
       "      <td>False</td>\n",
       "      <td>True</td>\n",
       "      <td>34.016667</td>\n",
       "      <td>True</td>\n",
       "      <td>True</td>\n",
       "    </tr>\n",
       "    <tr>\n",
       "      <th>8</th>\n",
       "      <td>1.0</td>\n",
       "      <td>1.74</td>\n",
       "      <td>11.0</td>\n",
       "      <td>2.96</td>\n",
       "      <td>17.76</td>\n",
       "      <td>True</td>\n",
       "      <td>False</td>\n",
       "      <td>False</td>\n",
       "      <td>True</td>\n",
       "      <td>False</td>\n",
       "      <td>...</td>\n",
       "      <td>False</td>\n",
       "      <td>False</td>\n",
       "      <td>True</td>\n",
       "      <td>False</td>\n",
       "      <td>False</td>\n",
       "      <td>False</td>\n",
       "      <td>True</td>\n",
       "      <td>14.300000</td>\n",
       "      <td>True</td>\n",
       "      <td>True</td>\n",
       "    </tr>\n",
       "    <tr>\n",
       "      <th>...</th>\n",
       "      <td>...</td>\n",
       "      <td>...</td>\n",
       "      <td>...</td>\n",
       "      <td>...</td>\n",
       "      <td>...</td>\n",
       "      <td>...</td>\n",
       "      <td>...</td>\n",
       "      <td>...</td>\n",
       "      <td>...</td>\n",
       "      <td>...</td>\n",
       "      <td>...</td>\n",
       "      <td>...</td>\n",
       "      <td>...</td>\n",
       "      <td>...</td>\n",
       "      <td>...</td>\n",
       "      <td>...</td>\n",
       "      <td>...</td>\n",
       "      <td>...</td>\n",
       "      <td>...</td>\n",
       "      <td>...</td>\n",
       "      <td>...</td>\n",
       "    </tr>\n",
       "    <tr>\n",
       "      <th>3755652</th>\n",
       "      <td>1.0</td>\n",
       "      <td>1.36</td>\n",
       "      <td>7.5</td>\n",
       "      <td>1.08</td>\n",
       "      <td>12.38</td>\n",
       "      <td>True</td>\n",
       "      <td>False</td>\n",
       "      <td>False</td>\n",
       "      <td>True</td>\n",
       "      <td>False</td>\n",
       "      <td>...</td>\n",
       "      <td>False</td>\n",
       "      <td>False</td>\n",
       "      <td>True</td>\n",
       "      <td>False</td>\n",
       "      <td>False</td>\n",
       "      <td>False</td>\n",
       "      <td>True</td>\n",
       "      <td>7.850000</td>\n",
       "      <td>False</td>\n",
       "      <td>True</td>\n",
       "    </tr>\n",
       "    <tr>\n",
       "      <th>3755653</th>\n",
       "      <td>1.0</td>\n",
       "      <td>3.00</td>\n",
       "      <td>11.0</td>\n",
       "      <td>2.96</td>\n",
       "      <td>17.76</td>\n",
       "      <td>True</td>\n",
       "      <td>False</td>\n",
       "      <td>False</td>\n",
       "      <td>True</td>\n",
       "      <td>False</td>\n",
       "      <td>...</td>\n",
       "      <td>False</td>\n",
       "      <td>False</td>\n",
       "      <td>True</td>\n",
       "      <td>False</td>\n",
       "      <td>False</td>\n",
       "      <td>False</td>\n",
       "      <td>True</td>\n",
       "      <td>10.466667</td>\n",
       "      <td>False</td>\n",
       "      <td>True</td>\n",
       "    </tr>\n",
       "    <tr>\n",
       "      <th>3755654</th>\n",
       "      <td>1.0</td>\n",
       "      <td>2.73</td>\n",
       "      <td>11.5</td>\n",
       "      <td>1.50</td>\n",
       "      <td>14.30</td>\n",
       "      <td>True</td>\n",
       "      <td>False</td>\n",
       "      <td>False</td>\n",
       "      <td>True</td>\n",
       "      <td>False</td>\n",
       "      <td>...</td>\n",
       "      <td>False</td>\n",
       "      <td>False</td>\n",
       "      <td>True</td>\n",
       "      <td>False</td>\n",
       "      <td>False</td>\n",
       "      <td>False</td>\n",
       "      <td>False</td>\n",
       "      <td>11.283333</td>\n",
       "      <td>False</td>\n",
       "      <td>True</td>\n",
       "    </tr>\n",
       "    <tr>\n",
       "      <th>3755655</th>\n",
       "      <td>1.0</td>\n",
       "      <td>3.36</td>\n",
       "      <td>11.5</td>\n",
       "      <td>0.00</td>\n",
       "      <td>15.30</td>\n",
       "      <td>True</td>\n",
       "      <td>False</td>\n",
       "      <td>False</td>\n",
       "      <td>True</td>\n",
       "      <td>False</td>\n",
       "      <td>...</td>\n",
       "      <td>False</td>\n",
       "      <td>False</td>\n",
       "      <td>True</td>\n",
       "      <td>False</td>\n",
       "      <td>False</td>\n",
       "      <td>False</td>\n",
       "      <td>True</td>\n",
       "      <td>9.716667</td>\n",
       "      <td>False</td>\n",
       "      <td>True</td>\n",
       "    </tr>\n",
       "    <tr>\n",
       "      <th>3755656</th>\n",
       "      <td>1.0</td>\n",
       "      <td>1.64</td>\n",
       "      <td>8.0</td>\n",
       "      <td>4.00</td>\n",
       "      <td>15.80</td>\n",
       "      <td>True</td>\n",
       "      <td>False</td>\n",
       "      <td>False</td>\n",
       "      <td>True</td>\n",
       "      <td>False</td>\n",
       "      <td>...</td>\n",
       "      <td>False</td>\n",
       "      <td>False</td>\n",
       "      <td>True</td>\n",
       "      <td>False</td>\n",
       "      <td>False</td>\n",
       "      <td>False</td>\n",
       "      <td>True</td>\n",
       "      <td>7.416667</td>\n",
       "      <td>False</td>\n",
       "      <td>True</td>\n",
       "    </tr>\n",
       "  </tbody>\n",
       "</table>\n",
       "<p>2725665 rows × 34 columns</p>\n",
       "</div>"
      ],
      "text/plain": [
       "         passenger_count  trip_distance  fare_amount  tip_amount  \\\n",
       "2                    1.0           1.70          9.5        2.65   \n",
       "3                    2.0           1.60          9.5        1.00   \n",
       "5                    2.0           1.20          7.5        1.00   \n",
       "7                    1.0           8.60         31.5        7.05   \n",
       "8                    1.0           1.74         11.0        2.96   \n",
       "...                  ...            ...          ...         ...   \n",
       "3755652              1.0           1.36          7.5        1.08   \n",
       "3755653              1.0           3.00         11.0        2.96   \n",
       "3755654              1.0           2.73         11.5        1.50   \n",
       "3755655              1.0           3.36         11.5        0.00   \n",
       "3755656              1.0           1.64          8.0        4.00   \n",
       "\n",
       "         total_amount  payment_type_1.0  payment_type_3.0  payment_type_4.0  \\\n",
       "2               15.95              True             False             False   \n",
       "3               14.30              True             False             False   \n",
       "5               12.30              True             False             False   \n",
       "7               42.35              True             False             False   \n",
       "8               17.76              True             False             False   \n",
       "...               ...               ...               ...               ...   \n",
       "3755652         12.38              True             False             False   \n",
       "3755653         17.76              True             False             False   \n",
       "3755654         14.30              True             False             False   \n",
       "3755655         15.30              True             False             False   \n",
       "3755656         15.80              True             False             False   \n",
       "\n",
       "         store_and_fwd_flag_N  store_and_fwd_flag_Y  ...  Borough_Brooklyn  \\\n",
       "2                        True                 False  ...             False   \n",
       "3                        True                 False  ...             False   \n",
       "5                        True                 False  ...             False   \n",
       "7                        True                 False  ...             False   \n",
       "8                        True                 False  ...             False   \n",
       "...                       ...                   ...  ...               ...   \n",
       "3755652                  True                 False  ...             False   \n",
       "3755653                  True                 False  ...             False   \n",
       "3755654                  True                 False  ...             False   \n",
       "3755655                  True                 False  ...             False   \n",
       "3755656                  True                 False  ...             False   \n",
       "\n",
       "         Borough_EWR  Borough_Manhattan  Borough_Queens  \\\n",
       "2              False               True           False   \n",
       "3              False               True           False   \n",
       "5              False               True           False   \n",
       "7              False               True           False   \n",
       "8              False               True           False   \n",
       "...              ...                ...             ...   \n",
       "3755652        False               True           False   \n",
       "3755653        False               True           False   \n",
       "3755654        False               True           False   \n",
       "3755655        False               True           False   \n",
       "3755656        False               True           False   \n",
       "\n",
       "         Borough_Staten Island  travel_to_out_borough  \\\n",
       "2                        False                  False   \n",
       "3                        False                  False   \n",
       "5                        False                  False   \n",
       "7                        False                  False   \n",
       "8                        False                  False   \n",
       "...                        ...                    ...   \n",
       "3755652                  False                  False   \n",
       "3755653                  False                  False   \n",
       "3755654                  False                  False   \n",
       "3755655                  False                  False   \n",
       "3755656                  False                  False   \n",
       "\n",
       "         taked_congestion_surcharge  trip_minute  is_it_the_weekend  \\\n",
       "2                              True    12.283333               True   \n",
       "3                              True    10.866667               True   \n",
       "5                              True     8.133333               True   \n",
       "7                              True    34.016667               True   \n",
       "8                              True    14.300000               True   \n",
       "...                             ...          ...                ...   \n",
       "3755652                        True     7.850000              False   \n",
       "3755653                        True    10.466667              False   \n",
       "3755654                       False    11.283333              False   \n",
       "3755655                        True     9.716667              False   \n",
       "3755656                        True     7.416667              False   \n",
       "\n",
       "         is_it_night  \n",
       "2               True  \n",
       "3               True  \n",
       "5               True  \n",
       "7               True  \n",
       "8               True  \n",
       "...              ...  \n",
       "3755652         True  \n",
       "3755653         True  \n",
       "3755654         True  \n",
       "3755655         True  \n",
       "3755656         True  \n",
       "\n",
       "[2725665 rows x 34 columns]"
      ]
     },
     "execution_count": 43,
     "metadata": {},
     "output_type": "execute_result"
    }
   ],
   "source": [
    "raw_data # final form of data"
   ]
  },
  {
   "cell_type": "code",
   "execution_count": 44,
   "id": "d5a4c76e-8f8c-4ff2-a2ca-ceaa030ff84b",
   "metadata": {},
   "outputs": [
    {
     "data": {
      "text/plain": [
       "Index(['passenger_count', 'trip_distance', 'fare_amount', 'tip_amount',\n",
       "       'total_amount', 'payment_type_1.0', 'payment_type_3.0',\n",
       "       'payment_type_4.0', 'store_and_fwd_flag_N', 'store_and_fwd_flag_Y',\n",
       "       'RatecodeID_1.0', 'RatecodeID_2.0', 'RatecodeID_3.0', 'RatecodeID_4.0',\n",
       "       'RatecodeID_5.0', 'RatecodeID_6.0', 'tolal_non_trip_extra_fares',\n",
       "       'VendorID_1', 'VendorID_2', 'service_zone_Airports',\n",
       "       'service_zone_Boro Zone', 'service_zone_EWR',\n",
       "       'service_zone_Yellow Zone', 'Borough_Bronx', 'Borough_Brooklyn',\n",
       "       'Borough_EWR', 'Borough_Manhattan', 'Borough_Queens',\n",
       "       'Borough_Staten Island', 'travel_to_out_borough',\n",
       "       'taked_congestion_surcharge', 'trip_minute', 'is_it_the_weekend',\n",
       "       'is_it_night'],\n",
       "      dtype='object')"
      ]
     },
     "execution_count": 44,
     "metadata": {},
     "output_type": "execute_result"
    }
   ],
   "source": [
    "raw_data.columns"
   ]
  },
  {
   "cell_type": "code",
   "execution_count": 45,
   "id": "5f4200a2-514d-4aa7-bf55-3e71e96c50b8",
   "metadata": {
    "scrolled": true
   },
   "outputs": [
    {
     "data": {
      "text/html": [
       "<table class=\"simpletable\">\n",
       "<caption>OLS Regression Results</caption>\n",
       "<tr>\n",
       "  <th>Dep. Variable:</th>       <td>tip_amount</td>    <th>  R-squared (uncentered):</th>       <td>   0.153</td>  \n",
       "</tr>\n",
       "<tr>\n",
       "  <th>Model:</th>                   <td>OLS</td>       <th>  Adj. R-squared (uncentered):</th>  <td>   0.153</td>  \n",
       "</tr>\n",
       "<tr>\n",
       "  <th>Method:</th>             <td>Least Squares</td>  <th>  F-statistic:       </th>           <td>4.935e+05</td> \n",
       "</tr>\n",
       "<tr>\n",
       "  <th>Date:</th>             <td>Sun, 17 Mar 2024</td> <th>  Prob (F-statistic):</th>            <td>  0.00</td>   \n",
       "</tr>\n",
       "<tr>\n",
       "  <th>Time:</th>                 <td>14:12:26</td>     <th>  Log-Likelihood:    </th>          <td>-7.3776e+06</td>\n",
       "</tr>\n",
       "<tr>\n",
       "  <th>No. Observations:</th>      <td>2725665</td>     <th>  AIC:               </th>           <td>1.476e+07</td> \n",
       "</tr>\n",
       "<tr>\n",
       "  <th>Df Residuals:</th>          <td>2725664</td>     <th>  BIC:               </th>           <td>1.476e+07</td> \n",
       "</tr>\n",
       "<tr>\n",
       "  <th>Df Model:</th>              <td>     1</td>      <th>                     </th>               <td> </td>     \n",
       "</tr>\n",
       "<tr>\n",
       "  <th>Covariance Type:</th>      <td>nonrobust</td>    <th>                     </th>               <td> </td>     \n",
       "</tr>\n",
       "</table>\n",
       "<table class=\"simpletable\">\n",
       "<tr>\n",
       "       <td></td>          <th>coef</th>     <th>std err</th>      <th>t</th>      <th>P>|t|</th>  <th>[0.025</th>    <th>0.975]</th>  \n",
       "</tr>\n",
       "<tr>\n",
       "  <th>is_it_night</th> <td>    3.0614</td> <td>    0.004</td> <td>  702.461</td> <td> 0.000</td> <td>    3.053</td> <td>    3.070</td>\n",
       "</tr>\n",
       "</table>\n",
       "<table class=\"simpletable\">\n",
       "<tr>\n",
       "  <th>Omnibus:</th>       <td>1042909.836</td> <th>  Durbin-Watson:     </th>  <td>   0.916</td>  \n",
       "</tr>\n",
       "<tr>\n",
       "  <th>Prob(Omnibus):</th>   <td> 0.000</td>    <th>  Jarque-Bera (JB):  </th> <td>6456529.306</td>\n",
       "</tr>\n",
       "<tr>\n",
       "  <th>Skew:</th>            <td> 1.723</td>    <th>  Prob(JB):          </th>  <td>    0.00</td>  \n",
       "</tr>\n",
       "<tr>\n",
       "  <th>Kurtosis:</th>        <td> 9.707</td>    <th>  Cond. No.          </th>  <td>    1.00</td>  \n",
       "</tr>\n",
       "</table><br/><br/>Notes:<br/>[1] R² is computed without centering (uncentered) since the model does not contain a constant.<br/>[2] Standard Errors assume that the covariance matrix of the errors is correctly specified."
      ],
      "text/latex": [
       "\\begin{center}\n",
       "\\begin{tabular}{lclc}\n",
       "\\toprule\n",
       "\\textbf{Dep. Variable:}    &   tip\\_amount    & \\textbf{  R-squared (uncentered):}      &      0.153   \\\\\n",
       "\\textbf{Model:}            &       OLS        & \\textbf{  Adj. R-squared (uncentered):} &      0.153   \\\\\n",
       "\\textbf{Method:}           &  Least Squares   & \\textbf{  F-statistic:       }          &  4.935e+05   \\\\\n",
       "\\textbf{Date:}             & Sun, 17 Mar 2024 & \\textbf{  Prob (F-statistic):}          &      0.00    \\\\\n",
       "\\textbf{Time:}             &     14:12:26     & \\textbf{  Log-Likelihood:    }          & -7.3776e+06  \\\\\n",
       "\\textbf{No. Observations:} &     2725665      & \\textbf{  AIC:               }          &  1.476e+07   \\\\\n",
       "\\textbf{Df Residuals:}     &     2725664      & \\textbf{  BIC:               }          &  1.476e+07   \\\\\n",
       "\\textbf{Df Model:}         &           1      & \\textbf{                     }          &              \\\\\n",
       "\\textbf{Covariance Type:}  &    nonrobust     & \\textbf{                     }          &              \\\\\n",
       "\\bottomrule\n",
       "\\end{tabular}\n",
       "\\begin{tabular}{lcccccc}\n",
       "                       & \\textbf{coef} & \\textbf{std err} & \\textbf{t} & \\textbf{P$> |$t$|$} & \\textbf{[0.025} & \\textbf{0.975]}  \\\\\n",
       "\\midrule\n",
       "\\textbf{is\\_it\\_night} &       3.0614  &        0.004     &   702.461  &         0.000        &        3.053    &        3.070     \\\\\n",
       "\\bottomrule\n",
       "\\end{tabular}\n",
       "\\begin{tabular}{lclc}\n",
       "\\textbf{Omnibus:}       & 1042909.836 & \\textbf{  Durbin-Watson:     } &      0.916   \\\\\n",
       "\\textbf{Prob(Omnibus):} &     0.000   & \\textbf{  Jarque-Bera (JB):  } & 6456529.306  \\\\\n",
       "\\textbf{Skew:}          &     1.723   & \\textbf{  Prob(JB):          } &       0.00   \\\\\n",
       "\\textbf{Kurtosis:}      &     9.707   & \\textbf{  Cond. No.          } &       1.00   \\\\\n",
       "\\bottomrule\n",
       "\\end{tabular}\n",
       "%\\caption{OLS Regression Results}\n",
       "\\end{center}\n",
       "\n",
       "Notes: \\newline\n",
       " [1] R² is computed without centering (uncentered) since the model does not contain a constant. \\newline\n",
       " [2] Standard Errors assume that the covariance matrix of the errors is correctly specified."
      ],
      "text/plain": [
       "<class 'statsmodels.iolib.summary.Summary'>\n",
       "\"\"\"\n",
       "                                 OLS Regression Results                                \n",
       "=======================================================================================\n",
       "Dep. Variable:             tip_amount   R-squared (uncentered):                   0.153\n",
       "Model:                            OLS   Adj. R-squared (uncentered):              0.153\n",
       "Method:                 Least Squares   F-statistic:                          4.935e+05\n",
       "Date:                Sun, 17 Mar 2024   Prob (F-statistic):                        0.00\n",
       "Time:                        14:12:26   Log-Likelihood:                     -7.3776e+06\n",
       "No. Observations:             2725665   AIC:                                  1.476e+07\n",
       "Df Residuals:                 2725664   BIC:                                  1.476e+07\n",
       "Df Model:                           1                                                  \n",
       "Covariance Type:            nonrobust                                                  \n",
       "===============================================================================\n",
       "                  coef    std err          t      P>|t|      [0.025      0.975]\n",
       "-------------------------------------------------------------------------------\n",
       "is_it_night     3.0614      0.004    702.461      0.000       3.053       3.070\n",
       "==============================================================================\n",
       "Omnibus:                  1042909.836   Durbin-Watson:                   0.916\n",
       "Prob(Omnibus):                  0.000   Jarque-Bera (JB):          6456529.306\n",
       "Skew:                           1.723   Prob(JB):                         0.00\n",
       "Kurtosis:                       9.707   Cond. No.                         1.00\n",
       "==============================================================================\n",
       "\n",
       "Notes:\n",
       "[1] R² is computed without centering (uncentered) since the model does not contain a constant.\n",
       "[2] Standard Errors assume that the covariance matrix of the errors is correctly specified.\n",
       "\"\"\""
      ]
     },
     "execution_count": 45,
     "metadata": {},
     "output_type": "execute_result"
    }
   ],
   "source": [
    "ist_X = raw_data['is_it_night']\n",
    "ist_y = raw_data['tip_amount']\n",
    "\n",
    "model = sm.OLS(ist_y, ist_X).fit()\n",
    "predictions = model.predict(ist_X)\n",
    "\n",
    "# Print out the statistics\n",
    "model.summary()"
   ]
  },
  {
   "cell_type": "code",
   "execution_count": 46,
   "id": "0383cf80-bf4f-4a50-9412-599e19ebd07e",
   "metadata": {},
   "outputs": [
    {
     "name": "stderr",
     "output_type": "stream",
     "text": [
      "C:\\Users\\alper\\AppData\\Local\\Programs\\Python\\Python311\\Lib\\site-packages\\seaborn\\axisgrid.py:123: UserWarning: The figure layout has changed to tight\n",
      "  self._figure.tight_layout(*args, **kwargs)\n"
     ]
    },
    {
     "data": {
      "text/plain": [
       "<seaborn.axisgrid.FacetGrid at 0x1fcfba3ac50>"
      ]
     },
     "execution_count": 46,
     "metadata": {},
     "output_type": "execute_result"
    },
    {
     "data": {
      "image/png": "[encoded data removed]",
      "text/plain": [
       "<Figure size 500x500 with 1 Axes>"
      ]
     },
     "metadata": {},
     "output_type": "display_data"
    }
   ],
   "source": [
    "sns.catplot(x='is_it_night', kind='count', data=raw_data)"
   ]
  },
  {
   "cell_type": "code",
   "execution_count": 47,
   "id": "67092887-694b-4f7d-bae0-96d242e43c19",
   "metadata": {},
   "outputs": [
    {
     "name": "stderr",
     "output_type": "stream",
     "text": [
      "C:\\Users\\alper\\AppData\\Local\\Programs\\Python\\Python311\\Lib\\site-packages\\seaborn\\categorical.py:632: FutureWarning: SeriesGroupBy.grouper is deprecated and will be removed in a future version of pandas.\n",
      "  positions = grouped.grouper.result_index.to_numpy(dtype=float)\n"
     ]
    },
    {
     "data": {
      "image/png": "[encoded data removed]",
      "text/plain": [
       "<Figure size 800x600 with 1 Axes>"
      ]
     },
     "metadata": {},
     "output_type": "display_data"
    }
   ],
   "source": [
    "plt.figure(figsize=(8, 6))\n",
    "sns.boxplot(x='is_it_night', y='tip_amount', data=raw_data, showfliers=False)\n",
    "plt.title('is_it_night on tip_amount')\n",
    "plt.xlabel('is_it_night')\n",
    "plt.ylabel('tip_amount')\n",
    "plt.show()"
   ]
  },
  {
   "cell_type": "code",
   "execution_count": 48,
   "id": "d0d8315b-c7cf-47a4-8db7-efcfc510097f",
   "metadata": {},
   "outputs": [],
   "source": [
    "X = raw_data.drop(columns=[\"tip_amount\"])\n",
    "y = raw_data[\"tip_amount\"]"
   ]
  },
  {
   "cell_type": "code",
   "execution_count": 49,
   "id": "dc18578d-9743-433c-9545-bf6e1c1b6c12",
   "metadata": {},
   "outputs": [
    {
     "name": "stdout",
     "output_type": "stream",
     "text": [
      "X.shape= (2725665, 33) y.shape= (2725665,)\n"
     ]
    }
   ],
   "source": [
    "print('X.shape=', X.shape, 'y.shape=', y.shape)"
   ]
  },
  {
   "cell_type": "code",
   "execution_count": 50,
   "id": "d691d3c4-750f-4e40-b56f-7dc7701cd18e",
   "metadata": {},
   "outputs": [
    {
     "name": "stdout",
     "output_type": "stream",
     "text": [
      "X_train.shape= (2180532, 33) Y_train.shape= (2180532,)\n",
      "X_test.shape= (545133, 33) Y_test.shape= (545133,)\n"
     ]
    }
   ],
   "source": [
    "X_train, X_test, y_train, y_test = train_test_split(X, y, test_size=.2, random_state=42)\n",
    "print('X_train.shape=', X_train.shape, 'Y_train.shape=', y_train.shape)\n",
    "print('X_test.shape=', X_test.shape, 'Y_test.shape=', y_test.shape)"
   ]
  },
  {
   "cell_type": "code",
   "execution_count": 51,
   "id": "86117198-d76d-428e-b495-3f5ad1cac0e2",
   "metadata": {},
   "outputs": [
    {
     "name": "stdout",
     "output_type": "stream",
     "text": [
      "[Scikit-Learn] Training time (s):  15.02722\n"
     ]
    }
   ],
   "source": [
    "from sklearn.tree import DecisionTreeRegressor\n",
    "\n",
    "sklearn_dt = DecisionTreeRegressor(max_depth=32, random_state=35)\n",
    "\n",
    "t0 = time.time()\n",
    "sklearn_dt.fit(X_train, y_train)\n",
    "sklearn_time = time.time()-t0\n",
    "print(\"[Scikit-Learn] Training time (s):  {0:.5f}\".format(sklearn_time))"
   ]
  },
  {
   "cell_type": "code",
   "execution_count": 52,
   "id": "38d585fd-2886-407a-b072-e7c79cf8e49d",
   "metadata": {},
   "outputs": [
    {
     "name": "stdout",
     "output_type": "stream",
     "text": [
      "[Scikit-Learn] MSE score : 0.149\n"
     ]
    }
   ],
   "source": [
    "from sklearn.metrics import mean_squared_error\n",
    "\n",
    "sklearn_pred = sklearn_dt.predict(X_test)\n",
    "\n",
    "# evaluate mean squared error on the test dataset\n",
    "sklearn_mse = mean_squared_error(y_test, sklearn_pred)\n",
    "print('[Scikit-Learn] MSE score : {0:.3f}'.format(sklearn_mse))"
   ]
  },
  {
   "cell_type": "code",
   "execution_count": 53,
   "id": "e31ab35f-a57e-463e-a228-49ca516bb0c7",
   "metadata": {},
   "outputs": [
    {
     "name": "stdout",
     "output_type": "stream",
     "text": [
      "[Scikit-Learn] MaE score : 0.067\n"
     ]
    }
   ],
   "source": [
    "from sklearn.metrics import mean_absolute_error\n",
    "\n",
    "sklearn_mae = mean_absolute_error(y_test, sklearn_pred)\n",
    "print('[Scikit-Learn] MaE score : {0:.3f}'.format(sklearn_mae))"
   ]
  },
  {
   "cell_type": "code",
   "execution_count": 54,
   "id": "8a664b73-16de-4d82-9d18-7644395bcecb",
   "metadata": {},
   "outputs": [
    {
     "name": "stdout",
     "output_type": "stream",
     "text": [
      "[Scikit-Learn] Training time (s):  3.84991\n",
      "4 depth [Scikit-Learn] MAE score : 0.454\n",
      "[Scikit-Learn] Training time (s):  7.67789\n",
      "8 depth [Scikit-Learn] MAE score : 0.255\n",
      "[Scikit-Learn] Training time (s):  9.99430\n",
      "12 depth [Scikit-Learn] MAE score : 0.138\n",
      "[Scikit-Learn] Training time (s):  11.79287\n",
      "16 depth [Scikit-Learn] MAE score : 0.084\n",
      "[Scikit-Learn] Training time (s):  13.38354\n",
      "20 depth [Scikit-Learn] MAE score : 0.070\n",
      "[Scikit-Learn] Training time (s):  13.71622\n",
      "24 depth [Scikit-Learn] MAE score : 0.066\n",
      "[Scikit-Learn] Training time (s):  14.14704\n",
      "28 depth [Scikit-Learn] MAE score : 0.066\n",
      "[Scikit-Learn] Training time (s):  13.44144\n",
      "32 depth [Scikit-Learn] MAE score : 0.066\n"
     ]
    }
   ],
   "source": [
    "history = []\n",
    "for depth in range(4, 33, 4):\n",
    "    sklearn_dt = DecisionTreeRegressor(max_depth=depth, random_state=42)\n",
    "    \n",
    "    t0 = time.time()\n",
    "    sklearn_dt.fit(X_train, y_train)\n",
    "    sklearn_time = time.time()-t0\n",
    "\n",
    "    sklearn_pred = sklearn_dt.predict(X_test)\n",
    "\n",
    "    sklearn_mae_ = mean_absolute_error(y_test, sklearn_pred)\n",
    "    \n",
    "    print(\"[Scikit-Learn] Training time (s):  {0:.5f}\".format(sklearn_time))\n",
    "    print(depth, 'depth [Scikit-Learn] MAE score : {0:.3f}'.format(sklearn_mae_))\n",
    "    history.append([depth, sklearn_time, sklearn_mae_])"
   ]
  },
  {
   "cell_type": "code",
   "execution_count": 55,
   "id": "d58312c0-7e98-4326-8530-d4360a9e6425",
   "metadata": {},
   "outputs": [
    {
     "data": {
      "image/png": "[encoded data removed]",
      "text/plain": [
       "<Figure size 640x480 with 1 Axes>"
      ]
     },
     "metadata": {},
     "output_type": "display_data"
    }
   ],
   "source": [
    "df = pd.DataFrame(history, columns=['depth', 'time', 'mae'])\n",
    "\n",
    "# Sütunlar arasında sıralı bir böğürtlen çizimi yapma\n",
    "sns.lineplot(data=df, x='depth', y='mae', marker='o')\n",
    "\n",
    "# Grafik başlığını ve eksen etiketlerini ekleme\n",
    "plt.title('DecisionTree depth and mean absolute error')\n",
    "plt.xlabel('depth')\n",
    "plt.ylabel('mae')\n",
    "\n",
    "# Görseli görüntüleme\n",
    "plt.show()"
   ]
  },
  {
   "cell_type": "code",
   "execution_count": null,
   "id": "aa5099f3-1924-4570-a953-36e11242de1e",
   "metadata": {},
   "outputs": [],
   "source": []
  }
 ],
 "metadata": {
  "kernelspec": {
   "display_name": "Python 3 (ipykernel)",
   "language": "python",
   "name": "python3"
  },
  "language_info": {
   "codemirror_mode": {
    "name": "ipython",
    "version": 3
   },
   "file_extension": ".py",
   "mimetype": "text/x-python",
   "name": "python",
   "nbconvert_exporter": "python",
   "pygments_lexer": "ipython3",
   "version": "3.11.4"
  }
 },
 "nbformat": 4,
 "nbformat_minor": 5
}
